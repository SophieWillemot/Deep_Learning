{
 "metadata": {
  "language_info": {
   "codemirror_mode": {
    "name": "ipython",
    "version": 3
   },
   "file_extension": ".py",
   "mimetype": "text/x-python",
   "name": "python",
   "nbconvert_exporter": "python",
   "pygments_lexer": "ipython3",
   "version": "3.8.5-final"
  },
  "orig_nbformat": 2,
  "kernelspec": {
   "name": "python38564bit9a8409779cd04c3cbd0c5f1e859a644e",
   "display_name": "Python 3.8.5 64-bit"
  }
 },
 "nbformat": 4,
 "nbformat_minor": 2,
 "cells": [
  {
   "cell_type": "code",
   "execution_count": 2,
   "metadata": {},
   "outputs": [],
   "source": [
    "import tensorflow as tf \n",
    "from classification.pre_process.Prep_CSV import Prep_CSV\n",
    "from classification.pre_process.Preprocessing import Preprocessing \n",
    "from utils.predict_process import *\n",
    "\n",
    "from sklearn.model_selection import train_test_split"
   ]
  },
  {
   "cell_type": "code",
   "execution_count": 3,
   "metadata": {},
   "outputs": [],
   "source": [
    "model_path = '/home/deeplearning/Deep_Learning_result/classic_model_test/classic_model'\n",
    "\n",
    "model = tf.keras.models.load_model(model_path)"
   ]
  },
  {
   "cell_type": "code",
   "execution_count": 4,
   "metadata": {
    "tags": [
     "outputPrepend"
    ]
   },
   "outputs": [
    {
     "output_type": "stream",
     "name": "stdout",
     "text": [
      "______________________________\nhead (Dense)                    (None, 2)            258         dropout_2[0][0]                  \n__________________________________________________________________________________________________\nleg (Dense)                     (None, 3)            387         dropout_2[0][0]                  \n__________________________________________________________________________________________________\nright_arm (Dense)               (None, 2)            258         dropout_2[0][0]                  \n__________________________________________________________________________________________________\nleft_arm (Dense)                (None, 2)            258         dropout_2[0][0]                  \n==================================================================================================\nTotal params: 13,853,897\nTrainable params: 13,853,897\nNon-trainable params: 0\n__________________________________________________________________________________________________\n"
     ]
    }
   ],
   "source": [
    "model.summary()"
   ]
  },
  {
   "cell_type": "code",
   "execution_count": 4,
   "metadata": {
    "tags": []
   },
   "outputs": [
    {
     "output_type": "stream",
     "name": "stdout",
     "text": [
      "/media/deeplearning/78ca2911-9e9f-4f78-b80a-848024b95f92/classif_test_png.csv\n",
      "size of X_train :  (1571, 503, 136, 1)\n",
      "size of y_train :  (1571, 4)\n",
      "\n",
      "size of X_test :  (327, 503, 136, 1)\n",
      "size of y_test :  (327, 4)\n",
      "\n",
      "size of X_val :  (278, 503, 136, 1)\n",
      "size of y_val :  (278, 4)\n"
     ]
    }
   ],
   "source": [
    "json_path = '/media/deeplearning/78ca2911-9e9f-4f78-b80a-848024b95f92/result.json'\n",
    "nifti_directory = '/media/deeplearning/78ca2911-9e9f-4f78-b80a-848024b95f92'\n",
    "objet = Prep_CSV(json_path)\n",
    "objet.result_csv(nifti_directory)\n",
    "print(objet.csv_result_path)\n",
    "\n",
    "prep_objet = Preprocessing(objet.csv_result_path)\n",
    "X, y = prep_objet.normalize_encoding_dataset()\n",
    "X_train, X_test, y_train, y_test = train_test_split(X,y, random_state = 42, test_size = 0.15) #random state \n",
    "X_train, X_val, y_train, y_val = train_test_split(X_train, y_train, random_state = 42, test_size = 0.15)\n",
    "print(\"size of X_train : \", X_train.shape)\n",
    "print(\"size of y_train : \",y_train.shape)\n",
    "print(\"\")\n",
    "print(\"size of X_test : \", X_test.shape)\n",
    "print(\"size of y_test : \",y_test.shape)\n",
    "print(\"\")\n",
    "print(\"size of X_val : \", X_val.shape)\n",
    "print(\"size of y_val : \",y_val.shape)"
   ]
  },
  {
   "cell_type": "code",
   "execution_count": 5,
   "metadata": {},
   "outputs": [],
   "source": [
    "#dataset \n",
    "\n",
    "import pandas as pd \n",
    "import csv \n",
    "\n",
    "csv_path = '/media/deeplearning/78ca2911-9e9f-4f78-b80a-848024b95f92/classif_test_png.csv'\n",
    "with open(csv_path, 'r') as csv_file :\n",
    "    reader = csv.reader(csv_file, delimiter = ',') #liste pour chaque ligne \n",
    "    dataset = []\n",
    "    for row in reader :\n",
    "        dataset.append(row)\n",
    "\n",
    "del dataset[0]"
   ]
  },
  {
   "cell_type": "code",
   "execution_count": 6,
   "metadata": {},
   "outputs": [
    {
     "output_type": "execute_result",
     "data": {
      "text/plain": [
       "                      STUDY_UID  \\\n",
       "0  1.2.276.0.7230010.3.2.212610   \n",
       "\n",
       "                                               NIFTI UPPER_LIMIT LOWER_LIMIT  \\\n",
       "0  /media/deeplearning/Elements/classif_ct/image_...      Vertex        Hips   \n",
       "\n",
       "  RIGHT_ARM LEFT_ARM  \n",
       "0        up       up  "
      ],
      "text/html": "<div>\n<style scoped>\n    .dataframe tbody tr th:only-of-type {\n        vertical-align: middle;\n    }\n\n    .dataframe tbody tr th {\n        vertical-align: top;\n    }\n\n    .dataframe thead th {\n        text-align: right;\n    }\n</style>\n<table border=\"1\" class=\"dataframe\">\n  <thead>\n    <tr style=\"text-align: right;\">\n      <th></th>\n      <th>STUDY_UID</th>\n      <th>NIFTI</th>\n      <th>UPPER_LIMIT</th>\n      <th>LOWER_LIMIT</th>\n      <th>RIGHT_ARM</th>\n      <th>LEFT_ARM</th>\n    </tr>\n  </thead>\n  <tbody>\n    <tr>\n      <th>0</th>\n      <td>1.2.276.0.7230010.3.2.212610</td>\n      <td>/media/deeplearning/Elements/classif_ct/image_...</td>\n      <td>Vertex</td>\n      <td>Hips</td>\n      <td>up</td>\n      <td>up</td>\n    </tr>\n  </tbody>\n</table>\n</div>"
     },
     "metadata": {},
     "execution_count": 6
    }
   ],
   "source": [
    "table = pd.DataFrame(dataset, columns=['STUDY_UID', 'NIFTI', 'UPPER_LIMIT', 'LOWER_LIMIT', 'RIGHT_ARM', 'LEFT_ARM'])\n",
    "table[0:1]\n",
    "\n"
   ]
  },
  {
   "cell_type": "code",
   "execution_count": 7,
   "metadata": {},
   "outputs": [],
   "source": [
    "train, test = train_test_split(table, test_size = 0.15)"
   ]
  },
  {
   "cell_type": "code",
   "execution_count": 8,
   "metadata": {},
   "outputs": [
    {
     "output_type": "execute_result",
     "data": {
      "text/plain": [
       "ge_...         Eye   \n",
       "1575  /media/deeplearning/Elements/classif_ct/image_...       Mouth   \n",
       "...                                                 ...         ...   \n",
       "1332  /media/deeplearning/Elements/classif_ct/image_...      Vertex   \n",
       "743   /media/deeplearning/Elements/classif_ct/image_...      Vertex   \n",
       "1446  /media/deeplearning/Elements/classif_ct/image_...      Vertex   \n",
       "403   /media/deeplearning/Elements/classif_ct/image_...      Vertex   \n",
       "289   /media/deeplearning/Elements/classif_ct/image_...         Eye   \n",
       "\n",
       "     LOWER_LIMIT RIGHT_ARM LEFT_ARM  \n",
       "306         Hips        up       up  \n",
       "1877        Hips        up       up  \n",
       "1195        Hips      down     down  \n",
       "1812        Hips        up       up  \n",
       "1575        Hips        up       up  \n",
       "...          ...       ...      ...  \n",
       "1332        Hips      down     down  \n",
       "743         Hips        up       up  \n",
       "1446        Hips        up       up  \n",
       "403         Knee      down     down  \n",
       "289         Hips      down     down  \n",
       "\n",
       "[1849 rows x 6 columns]"
      ],
      "text/html": "<div>\n<style scoped>\n    .dataframe tbody tr th:only-of-type {\n        vertical-align: middle;\n    }\n\n    .dataframe tbody tr th {\n        vertical-align: top;\n    }\n\n    .dataframe thead th {\n        text-align: right;\n    }\n</style>\n<table border=\"1\" class=\"dataframe\">\n  <thead>\n    <tr style=\"text-align: right;\">\n      <th></th>\n      <th>STUDY_UID</th>\n      <th>NIFTI</th>\n      <th>UPPER_LIMIT</th>\n      <th>LOWER_LIMIT</th>\n      <th>RIGHT_ARM</th>\n      <th>LEFT_ARM</th>\n    </tr>\n  </thead>\n  <tbody>\n    <tr>\n      <th>306</th>\n      <td>1.2.250.1.199.10.90001.92661.20130321125241</td>\n      <td>/media/deeplearning/Elements/classif_ct/image_...</td>\n      <td>Eye</td>\n      <td>Hips</td>\n      <td>up</td>\n      <td>up</td>\n    </tr>\n    <tr>\n      <th>1877</th>\n      <td>1.2.250.1.59.453.859.92444169.2584.1384851318....</td>\n      <td>/media/deeplearning/Elements/classif_ct/image_...</td>\n      <td>Vertex</td>\n      <td>Hips</td>\n      <td>up</td>\n      <td>up</td>\n    </tr>\n    <tr>\n      <th>1195</th>\n      <td>1.2.250.1.74.20150216120000.1000046003779</td>\n      <td>/media/deeplearning/Elements/classif_ct/image_...</td>\n      <td>Vertex</td>\n      <td>Hips</td>\n      <td>down</td>\n      <td>down</td>\n    </tr>\n    <tr>\n      <th>1812</th>\n      <td>1.2.276.0.7230010.3.1.2.3003270646.2712.137234...</td>\n      <td>/media/deeplearning/Elements/classif_ct/image_...</td>\n      <td>Eye</td>\n      <td>Hips</td>\n      <td>up</td>\n      <td>up</td>\n    </tr>\n    <tr>\n      <th>1575</th>\n      <td>1.2.250.1.199.14.900278.9297455.20140224091853</td>\n      <td>/media/deeplearning/Elements/classif_ct/image_...</td>\n      <td>Mouth</td>\n      <td>Hips</td>\n      <td>up</td>\n      <td>up</td>\n    </tr>\n    <tr>\n      <th>...</th>\n      <td>...</td>\n      <td>...</td>\n      <td>...</td>\n      <td>...</td>\n      <td>...</td>\n      <td>...</td>\n    </tr>\n    <tr>\n      <th>1332</th>\n      <td>1.3.51.0.1.1.10.49.10.222.2091847.2090385</td>\n      <td>/media/deeplearning/Elements/classif_ct/image_...</td>\n      <td>Vertex</td>\n      <td>Hips</td>\n      <td>down</td>\n      <td>down</td>\n    </tr>\n    <tr>\n      <th>743</th>\n      <td>1.2.840.113619.2.290.3.17438691.553.1394693450...</td>\n      <td>/media/deeplearning/Elements/classif_ct/image_...</td>\n      <td>Vertex</td>\n      <td>Hips</td>\n      <td>up</td>\n      <td>up</td>\n    </tr>\n    <tr>\n      <th>1446</th>\n      <td>1.2.250.1.74.20150108124500.28000034704256</td>\n      <td>/media/deeplearning/Elements/classif_ct/image_...</td>\n      <td>Vertex</td>\n      <td>Hips</td>\n      <td>up</td>\n      <td>up</td>\n    </tr>\n    <tr>\n      <th>403</th>\n      <td>1.2.276.0.7230010.3.2.155727</td>\n      <td>/media/deeplearning/Elements/classif_ct/image_...</td>\n      <td>Vertex</td>\n      <td>Knee</td>\n      <td>down</td>\n      <td>down</td>\n    </tr>\n    <tr>\n      <th>289</th>\n      <td>1.2.276.0.7230010.3.2.288022</td>\n      <td>/media/deeplearning/Elements/classif_ct/image_...</td>\n      <td>Eye</td>\n      <td>Hips</td>\n      <td>down</td>\n      <td>down</td>\n    </tr>\n  </tbody>\n</table>\n<p>1849 rows × 6 columns</p>\n</div>"
     },
     "metadata": {},
     "execution_count": 8
    }
   ],
   "source": [
    "train"
   ]
  },
  {
   "cell_type": "code",
   "execution_count": null,
   "metadata": {},
   "outputs": [],
   "source": []
  },
  {
   "cell_type": "code",
   "execution_count": 9,
   "metadata": {},
   "outputs": [
    {
     "output_type": "execute_result",
     "data": {
      "text/plain": [
       "['loss',\n",
       " 'head_loss',\n",
       " 'leg_loss',\n",
       " 'right_arm_loss',\n",
       " 'left_arm_loss',\n",
       " 'head_accuracy',\n",
       " 'leg_accuracy',\n",
       " 'right_arm_accuracy',\n",
       " 'left_arm_accuracy']"
      ]
     },
     "metadata": {},
     "execution_count": 9
    }
   ],
   "source": [
    "#evaluate model on test set \n",
    "\n",
    "model.metrics_names"
   ]
  },
  {
   "cell_type": "code",
   "execution_count": 10,
   "metadata": {},
   "outputs": [
    {
     "output_type": "stream",
     "name": "stdout",
     "text": [
      "11/11 [==============================] - 1s 120ms/step - loss: 0.0271 - head_loss: 0.0505 - leg_loss: 0.0308 - right_arm_loss: 0.0033 - left_arm_loss: 0.0239 - head_accuracy: 0.5229 - leg_accuracy: 0.9113 - right_arm_accuracy: 0.2294 - left_arm_accuracy: 0.2294\n"
     ]
    },
    {
     "output_type": "execute_result",
     "data": {
      "text/plain": [
       "{'loss': 0.027126483619213104,\n",
       " 'head_loss': 0.050522468984127045,\n",
       " 'leg_loss': 0.030805526301264763,\n",
       " 'right_arm_loss': 0.0032844259403645992,\n",
       " 'left_arm_loss': 0.023893525823950768,\n",
       " 'head_accuracy': 0.5229358077049255,\n",
       " 'leg_accuracy': 0.9113149642944336,\n",
       " 'right_arm_accuracy': 0.2293577939271927,\n",
       " 'left_arm_accuracy': 0.2293577939271927}"
      ]
     },
     "metadata": {},
     "execution_count": 10
    }
   ],
   "source": [
    "result = model.evaluate(X_test,  {'head': y_test[:,0], \n",
    "                                    'leg': y_test[:,1],\n",
    "                                    'right_arm' : y_test[:,2],\n",
    "                                    'left_arm' : y_test[:,3] ,\n",
    "                                    })\n",
    "dict(zip(model.metrics_names, result))        "
   ]
  },
  {
   "cell_type": "code",
   "execution_count": 11,
   "metadata": {},
   "outputs": [],
   "source": [
    "#prediction \n",
    "pred = model.predict(X_test)"
   ]
  },
  {
   "cell_type": "code",
   "execution_count": 12,
   "metadata": {},
   "outputs": [
    {
     "output_type": "stream",
     "name": "stdout",
     "text": [
      "327\n['Eye / Mouth', 'Knee', 'down', 'down']\n"
     ]
    }
   ],
   "source": [
    "predi = decodage_predictions(pred)\n",
    "print(len(predi))\n",
    "print(predi[0])"
   ]
  },
  {
   "cell_type": "code",
   "execution_count": 13,
   "metadata": {},
   "outputs": [
    {
     "output_type": "display_data",
     "data": {
      "text/plain": "<Figure size 432x288 with 1 Axes>",
      "image/svg+xml": "<?xml version=\"1.0\" encoding=\"utf-8\" standalone=\"no\"?>\n<!DOCTYPE svg PUBLIC \"-//W3C//DTD SVG 1.1//EN\"\n  \"http://www.w3.org/Graphics/SVG/1.1/DTD/svg11.dtd\">\n<!-- Created with matplotlib (https://matplotlib.org/) -->\n<svg height=\"252.101201pt\" version=\"1.1\" viewBox=\"0 0 99.278434 252.101201\" width=\"99.278434pt\" xmlns=\"http://www.w3.org/2000/svg\" xmlns:xlink=\"http://www.w3.org/1999/xlink\">\n <metadata>\n  <rdf:RDF xmlns:cc=\"http://creativecommons.org/ns#\" xmlns:dc=\"http://purl.org/dc/elements/1.1/\" xmlns:rdf=\"http://www.w3.org/1999/02/22-rdf-syntax-ns#\">\n   <cc:Work>\n    <dc:type rdf:resource=\"http://purl.org/dc/dcmitype/StillImage\"/>\n    <dc:date>2020-10-21T16:05:24.958302</dc:date>\n    <dc:format>image/svg+xml</dc:format>\n    <dc:creator>\n     <cc:Agent>\n      <dc:title>Matplotlib v3.3.0, https://matplotlib.org/</dc:title>\n     </cc:Agent>\n    </dc:creator>\n   </cc:Work>\n  </rdf:RDF>\n </metadata>\n <defs>\n  <style type=\"text/css\">*{stroke-linecap:butt;stroke-linejoin:round;}</style>\n </defs>\n <g id=\"figure_1\">\n  <g id=\"patch_1\">\n   <path d=\"M 0 252.101201 \nL 99.278434 252.101201 \nL 99.278434 0 \nL 0 0 \nz\n\" style=\"fill:none;\"/>\n  </g>\n  <g id=\"axes_1\">\n   <g id=\"patch_2\">\n    <path d=\"M 33.2875 228.223076 \nL 92.078434 228.223076 \nL 92.078434 10.783076 \nL 33.2875 10.783076 \nz\n\" style=\"fill:#ffffff;\"/>\n   </g>\n   <g clip-path=\"url(#p75afb6e8cb)\">\n    <image height=\"218\" id=\"image504cb705eb\" transform=\"scale(1 -1)translate(0 -218)\" width=\"59\" x=\"33.2875\" xlink:href=\"data:image/png;base64,\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\" y=\"-10.223076\"/>\n   </g>\n   <g id=\"matplotlib.axis_1\">\n    <g id=\"xtick_1\">\n     <g id=\"line2d_1\">\n      <defs>\n       <path d=\"M 0 0 \nL 0 3.5 \n\" id=\"m47cf47da0a\" style=\"stroke:#000000;stroke-width:0.8;\"/>\n      </defs>\n      <g>\n       <use style=\"stroke:#000000;stroke-width:0.8;\" x=\"33.503643\" xlink:href=\"#m47cf47da0a\" y=\"228.223076\"/>\n      </g>\n     </g>\n     <g id=\"text_1\">\n      <!-- 0 -->\n      <g transform=\"translate(30.322393 242.821513)scale(0.1 -0.1)\">\n       <defs>\n        <path d=\"M 31.78125 66.40625 \nQ 24.171875 66.40625 20.328125 58.90625 \nQ 16.5 51.421875 16.5 36.375 \nQ 16.5 21.390625 20.328125 13.890625 \nQ 24.171875 6.390625 31.78125 6.390625 \nQ 39.453125 6.390625 43.28125 13.890625 \nQ 47.125 21.390625 47.125 36.375 \nQ 47.125 51.421875 43.28125 58.90625 \nQ 39.453125 66.40625 31.78125 66.40625 \nz\nM 31.78125 74.21875 \nQ 44.046875 74.21875 50.515625 64.515625 \nQ 56.984375 54.828125 56.984375 36.375 \nQ 56.984375 17.96875 50.515625 8.265625 \nQ 44.046875 -1.421875 31.78125 -1.421875 \nQ 19.53125 -1.421875 13.0625 8.265625 \nQ 6.59375 17.96875 6.59375 36.375 \nQ 6.59375 54.828125 13.0625 64.515625 \nQ 19.53125 74.21875 31.78125 74.21875 \nz\n\" id=\"DejaVuSans-48\"/>\n       </defs>\n       <use xlink:href=\"#DejaVuSans-48\"/>\n      </g>\n     </g>\n    </g>\n    <g id=\"xtick_2\">\n     <g id=\"line2d_2\">\n      <g>\n       <use style=\"stroke:#000000;stroke-width:0.8;\" x=\"76.732271\" xlink:href=\"#m47cf47da0a\" y=\"228.223076\"/>\n      </g>\n     </g>\n     <g id=\"text_2\">\n      <!-- 100 -->\n      <g transform=\"translate(67.188521 242.821513)scale(0.1 -0.1)\">\n       <defs>\n        <path d=\"M 12.40625 8.296875 \nL 28.515625 8.296875 \nL 28.515625 63.921875 \nL 10.984375 60.40625 \nL 10.984375 69.390625 \nL 28.421875 72.90625 \nL 38.28125 72.90625 \nL 38.28125 8.296875 \nL 54.390625 8.296875 \nL 54.390625 0 \nL 12.40625 0 \nz\n\" id=\"DejaVuSans-49\"/>\n       </defs>\n       <use xlink:href=\"#DejaVuSans-49\"/>\n       <use x=\"63.623047\" xlink:href=\"#DejaVuSans-48\"/>\n       <use x=\"127.246094\" xlink:href=\"#DejaVuSans-48\"/>\n      </g>\n     </g>\n    </g>\n   </g>\n   <g id=\"matplotlib.axis_2\">\n    <g id=\"ytick_1\">\n     <g id=\"line2d_3\">\n      <defs>\n       <path d=\"M 0 0 \nL -3.5 0 \n\" id=\"m0933607db9\" style=\"stroke:#000000;stroke-width:0.8;\"/>\n      </defs>\n      <g>\n       <use style=\"stroke:#000000;stroke-width:0.8;\" x=\"33.2875\" xlink:href=\"#m0933607db9\" y=\"10.999219\"/>\n      </g>\n     </g>\n     <g id=\"text_3\">\n      <!-- 0 -->\n      <g transform=\"translate(19.925 14.798437)scale(0.1 -0.1)\">\n       <use xlink:href=\"#DejaVuSans-48\"/>\n      </g>\n     </g>\n    </g>\n    <g id=\"ytick_2\">\n     <g id=\"line2d_4\">\n      <g>\n       <use style=\"stroke:#000000;stroke-width:0.8;\" x=\"33.2875\" xlink:href=\"#m0933607db9\" y=\"54.227847\"/>\n      </g>\n     </g>\n     <g id=\"text_4\">\n      <!-- 100 -->\n      <g transform=\"translate(7.2 58.027066)scale(0.1 -0.1)\">\n       <use xlink:href=\"#DejaVuSans-49\"/>\n       <use x=\"63.623047\" xlink:href=\"#DejaVuSans-48\"/>\n       <use x=\"127.246094\" xlink:href=\"#DejaVuSans-48\"/>\n      </g>\n     </g>\n    </g>\n    <g id=\"ytick_3\">\n     <g id=\"line2d_5\">\n      <g>\n       <use style=\"stroke:#000000;stroke-width:0.8;\" x=\"33.2875\" xlink:href=\"#m0933607db9\" y=\"97.456475\"/>\n      </g>\n     </g>\n     <g id=\"text_5\">\n      <!-- 200 -->\n      <g transform=\"translate(7.2 101.255694)scale(0.1 -0.1)\">\n       <defs>\n        <path d=\"M 19.1875 8.296875 \nL 53.609375 8.296875 \nL 53.609375 0 \nL 7.328125 0 \nL 7.328125 8.296875 \nQ 12.9375 14.109375 22.625 23.890625 \nQ 32.328125 33.6875 34.8125 36.53125 \nQ 39.546875 41.84375 41.421875 45.53125 \nQ 43.3125 49.21875 43.3125 52.78125 \nQ 43.3125 58.59375 39.234375 62.25 \nQ 35.15625 65.921875 28.609375 65.921875 \nQ 23.96875 65.921875 18.8125 64.3125 \nQ 13.671875 62.703125 7.8125 59.421875 \nL 7.8125 69.390625 \nQ 13.765625 71.78125 18.9375 73 \nQ 24.125 74.21875 28.421875 74.21875 \nQ 39.75 74.21875 46.484375 68.546875 \nQ 53.21875 62.890625 53.21875 53.421875 \nQ 53.21875 48.921875 51.53125 44.890625 \nQ 49.859375 40.875 45.40625 35.40625 \nQ 44.1875 33.984375 37.640625 27.21875 \nQ 31.109375 20.453125 19.1875 8.296875 \nz\n\" id=\"DejaVuSans-50\"/>\n       </defs>\n       <use xlink:href=\"#DejaVuSans-50\"/>\n       <use x=\"63.623047\" xlink:href=\"#DejaVuSans-48\"/>\n       <use x=\"127.246094\" xlink:href=\"#DejaVuSans-48\"/>\n      </g>\n     </g>\n    </g>\n    <g id=\"ytick_4\">\n     <g id=\"line2d_6\">\n      <g>\n       <use style=\"stroke:#000000;stroke-width:0.8;\" x=\"33.2875\" xlink:href=\"#m0933607db9\" y=\"140.685103\"/>\n      </g>\n     </g>\n     <g id=\"text_6\">\n      <!-- 300 -->\n      <g transform=\"translate(7.2 144.484322)scale(0.1 -0.1)\">\n       <defs>\n        <path d=\"M 40.578125 39.3125 \nQ 47.65625 37.796875 51.625 33 \nQ 55.609375 28.21875 55.609375 21.1875 \nQ 55.609375 10.40625 48.1875 4.484375 \nQ 40.765625 -1.421875 27.09375 -1.421875 \nQ 22.515625 -1.421875 17.65625 -0.515625 \nQ 12.796875 0.390625 7.625 2.203125 \nL 7.625 11.71875 \nQ 11.71875 9.328125 16.59375 8.109375 \nQ 21.484375 6.890625 26.8125 6.890625 \nQ 36.078125 6.890625 40.9375 10.546875 \nQ 45.796875 14.203125 45.796875 21.1875 \nQ 45.796875 27.640625 41.28125 31.265625 \nQ 36.765625 34.90625 28.71875 34.90625 \nL 20.21875 34.90625 \nL 20.21875 43.015625 \nL 29.109375 43.015625 \nQ 36.375 43.015625 40.234375 45.921875 \nQ 44.09375 48.828125 44.09375 54.296875 \nQ 44.09375 59.90625 40.109375 62.90625 \nQ 36.140625 65.921875 28.71875 65.921875 \nQ 24.65625 65.921875 20.015625 65.03125 \nQ 15.375 64.15625 9.8125 62.3125 \nL 9.8125 71.09375 \nQ 15.4375 72.65625 20.34375 73.4375 \nQ 25.25 74.21875 29.59375 74.21875 \nQ 40.828125 74.21875 47.359375 69.109375 \nQ 53.90625 64.015625 53.90625 55.328125 \nQ 53.90625 49.265625 50.4375 45.09375 \nQ 46.96875 40.921875 40.578125 39.3125 \nz\n\" id=\"DejaVuSans-51\"/>\n       </defs>\n       <use xlink:href=\"#DejaVuSans-51\"/>\n       <use x=\"63.623047\" xlink:href=\"#DejaVuSans-48\"/>\n       <use x=\"127.246094\" xlink:href=\"#DejaVuSans-48\"/>\n      </g>\n     </g>\n    </g>\n    <g id=\"ytick_5\">\n     <g id=\"line2d_7\">\n      <g>\n       <use style=\"stroke:#000000;stroke-width:0.8;\" x=\"33.2875\" xlink:href=\"#m0933607db9\" y=\"183.913732\"/>\n      </g>\n     </g>\n     <g id=\"text_7\">\n      <!-- 400 -->\n      <g transform=\"translate(7.2 187.71295)scale(0.1 -0.1)\">\n       <defs>\n        <path d=\"M 37.796875 64.3125 \nL 12.890625 25.390625 \nL 37.796875 25.390625 \nz\nM 35.203125 72.90625 \nL 47.609375 72.90625 \nL 47.609375 25.390625 \nL 58.015625 25.390625 \nL 58.015625 17.1875 \nL 47.609375 17.1875 \nL 47.609375 0 \nL 37.796875 0 \nL 37.796875 17.1875 \nL 4.890625 17.1875 \nL 4.890625 26.703125 \nz\n\" id=\"DejaVuSans-52\"/>\n       </defs>\n       <use xlink:href=\"#DejaVuSans-52\"/>\n       <use x=\"63.623047\" xlink:href=\"#DejaVuSans-48\"/>\n       <use x=\"127.246094\" xlink:href=\"#DejaVuSans-48\"/>\n      </g>\n     </g>\n    </g>\n    <g id=\"ytick_6\">\n     <g id=\"line2d_8\">\n      <g>\n       <use style=\"stroke:#000000;stroke-width:0.8;\" x=\"33.2875\" xlink:href=\"#m0933607db9\" y=\"227.14236\"/>\n      </g>\n     </g>\n     <g id=\"text_8\">\n      <!-- 500 -->\n      <g transform=\"translate(7.2 230.941579)scale(0.1 -0.1)\">\n       <defs>\n        <path d=\"M 10.796875 72.90625 \nL 49.515625 72.90625 \nL 49.515625 64.59375 \nL 19.828125 64.59375 \nL 19.828125 46.734375 \nQ 21.96875 47.46875 24.109375 47.828125 \nQ 26.265625 48.1875 28.421875 48.1875 \nQ 40.625 48.1875 47.75 41.5 \nQ 54.890625 34.8125 54.890625 23.390625 \nQ 54.890625 11.625 47.5625 5.09375 \nQ 40.234375 -1.421875 26.90625 -1.421875 \nQ 22.3125 -1.421875 17.546875 -0.640625 \nQ 12.796875 0.140625 7.71875 1.703125 \nL 7.71875 11.625 \nQ 12.109375 9.234375 16.796875 8.0625 \nQ 21.484375 6.890625 26.703125 6.890625 \nQ 35.15625 6.890625 40.078125 11.328125 \nQ 45.015625 15.765625 45.015625 23.390625 \nQ 45.015625 31 40.078125 35.4375 \nQ 35.15625 39.890625 26.703125 39.890625 \nQ 22.75 39.890625 18.8125 39.015625 \nQ 14.890625 38.140625 10.796875 36.28125 \nz\n\" id=\"DejaVuSans-53\"/>\n       </defs>\n       <use xlink:href=\"#DejaVuSans-53\"/>\n       <use x=\"63.623047\" xlink:href=\"#DejaVuSans-48\"/>\n       <use x=\"127.246094\" xlink:href=\"#DejaVuSans-48\"/>\n      </g>\n     </g>\n    </g>\n   </g>\n   <g id=\"patch_3\">\n    <path d=\"M 33.2875 228.223076 \nL 33.2875 10.783076 \n\" style=\"fill:none;stroke:#000000;stroke-linecap:square;stroke-linejoin:miter;stroke-width:0.8;\"/>\n   </g>\n   <g id=\"patch_4\">\n    <path d=\"M 92.078434 228.223076 \nL 92.078434 10.783076 \n\" style=\"fill:none;stroke:#000000;stroke-linecap:square;stroke-linejoin:miter;stroke-width:0.8;\"/>\n   </g>\n   <g id=\"patch_5\">\n    <path d=\"M 33.2875 228.223076 \nL 92.078434 228.223076 \n\" style=\"fill:none;stroke:#000000;stroke-linecap:square;stroke-linejoin:miter;stroke-width:0.8;\"/>\n   </g>\n   <g id=\"patch_6\">\n    <path d=\"M 33.2875 10.783076 \nL 92.078434 10.783076 \n\" style=\"fill:none;stroke:#000000;stroke-linecap:square;stroke-linejoin:miter;stroke-width:0.8;\"/>\n   </g>\n  </g>\n </g>\n <defs>\n  <clipPath id=\"p75afb6e8cb\">\n   <rect height=\"217.44\" width=\"58.790934\" x=\"33.2875\" y=\"10.783076\"/>\n  </clipPath>\n </defs>\n</svg>\n",
      "image/png": "[encoded data removed]"
     },
     "metadata": {
      "needs_background": "light"
     }
    },
    {
     "output_type": "stream",
     "name": "stdout",
     "text": [
      "[1 1 0 0]\n['Eye / Mouth', 'Knee', 'down', 'down']\n"
     ]
    }
   ],
   "source": [
    "truth = decodage_truth(y_test)\n",
    "plt.imshow(X_test[0][:,:,0])\n",
    "plt.show()\n",
    "print(y_test[0])\n",
    "print(truth[0])"
   ]
  },
  {
   "cell_type": "code",
   "execution_count": 14,
   "metadata": {},
   "outputs": [],
   "source": [
    "directory = '/home/deeplearning/Deep_Learning_result/classif_model_test'"
   ]
  },
  {
   "source": [
    "affichage(X_test, predi, truth, directory)"
   ],
   "cell_type": "code",
   "metadata": {},
   "execution_count": null,
   "outputs": []
  },
  {
   "cell_type": "code",
   "execution_count": null,
   "metadata": {},
   "outputs": [],
   "source": []
  }
 ]
}