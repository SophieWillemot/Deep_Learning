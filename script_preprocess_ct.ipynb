{
 "cells": [
  {
   "cell_type": "code",
   "execution_count": 2,
   "metadata": {},
   "outputs": [],
   "source": [
    "from library_dicom.dicom_processor.tools.preprocessing import *\n",
    "import matplotlib.pyplot as plt\n",
    "import numpy as np\n",
    "from library_dicom.dicom_processor.model.SeriesPT import SeriesPT\n",
    "from library_dicom.dicom_processor.model.SeriesCT import SeriesCT\n",
    "from library_dicom.dicom_processor.tools.create_mip import *\n",
    "from library_dicom.dicom_processor.model.csv_reader.MaskBuilder import MaskBuilder"
   ]
  },
  {
   "cell_type": "code",
   "execution_count": 3,
   "metadata": {},
   "outputs": [],
   "source": [
    "#generate for pet0 in ahl\n",
    "import csv \n",
    "csv_gained_pet0= '/media/deeplearning/Elements/AHL2011_NIFTI.csv'\n",
    "with open(csv_gained_pet0, 'r') as csv_file :\n",
    "    reader = csv.reader(csv_file, delimiter = ',') #liste pour chaque ligne \n",
    "    csv_data = []\n",
    "    for row in reader :\n",
    "        csv_data.append(row)\n",
    "        \n",
    "del csv_data[0] #enlever première ligne"
   ]
  },
  {
   "cell_type": "code",
   "execution_count": 4,
   "metadata": {},
   "outputs": [
    {
     "data": {
      "text/plain": [
       "1755"
      ]
     },
     "execution_count": 4,
     "metadata": {},
     "output_type": "execute_result"
    }
   ],
   "source": [
    "len(csv_data)"
   ]
  },
  {
   "cell_type": "code",
   "execution_count": 5,
   "metadata": {},
   "outputs": [
    {
     "data": {
      "text/plain": [
       "['CON,DA',\n",
       " '13011101331015',\n",
       " '1.2.124.113532.10.149.172.5.20131107.93455.7725981',\n",
       " 'pet0',\n",
       " '/media/storage/AHL2011_NIFTI/1.2.124.113532.10.149.172.5.20131107.93455.7725981_nifti_CT.nii',\n",
       " '/media/storage/AHL2011_NIFTI/1.2.124.113532.10.149.172.5.20131107.93455.7725981_nifti_PT.nii',\n",
       " '/media/storage/AHL2011_NIFTI/1.2.124.113532.10.149.172.5.20131107.93455.7725981_nifti_mask.nii']"
      ]
     },
     "execution_count": 5,
     "metadata": {},
     "output_type": "execute_result"
    }
   ],
   "source": [
    "csv_data[0]"
   ]
  },
  {
   "cell_type": "code",
   "execution_count": 6,
   "metadata": {},
   "outputs": [],
   "source": [
    "pet2 = csv_data[578:1231]"
   ]
  },
  {
   "cell_type": "code",
   "execution_count": 7,
   "metadata": {},
   "outputs": [
    {
     "data": {
      "text/plain": [
       "['BES,LA',\n",
       " '13011101331006',\n",
       " '1.2.124.113532.10.149.172.5.20130213.83635.7098207',\n",
       " 'pet4',\n",
       " '/media/storage/AHL2011_NIFTI_PET24/1.2.124.113532.10.149.172.5.20130213.83635.7098207_nifti_CT.nii',\n",
       " '/media/storage/AHL2011_NIFTI_PET24/1.2.124.113532.10.149.172.5.20130213.83635.7098207_nifti_PT.nii',\n",
       " ' ']"
      ]
     },
     "execution_count": 7,
     "metadata": {},
     "output_type": "execute_result"
    }
   ],
   "source": [
    "pet2[-1]"
   ]
  },
  {
   "cell_type": "code",
   "execution_count": 8,
   "metadata": {},
   "outputs": [
    {
     "data": {
      "text/plain": [
       "653"
      ]
     },
     "execution_count": 8,
     "metadata": {},
     "output_type": "execute_result"
    }
   ],
   "source": [
    "len(pet2)"
   ]
  },
  {
   "cell_type": "code",
   "execution_count": 9,
   "metadata": {},
   "outputs": [],
   "source": [
    "for serie in pet2 : \n",
    "    ct = serie[4].replace('storage', 'deeplearning/Elements')\n",
    "    serie[4] = ct "
   ]
  },
  {
   "cell_type": "code",
   "execution_count": 10,
   "metadata": {},
   "outputs": [
    {
     "data": {
      "text/plain": [
       "['BES,LA',\n",
       " '13011101331006',\n",
       " '1.2.124.113532.10.149.172.5.20130213.83635.7098207',\n",
       " 'pet4',\n",
       " '/media/deeplearning/Elements/AHL2011_NIFTI_PET24/1.2.124.113532.10.149.172.5.20130213.83635.7098207_nifti_CT.nii',\n",
       " '/media/storage/AHL2011_NIFTI_PET24/1.2.124.113532.10.149.172.5.20130213.83635.7098207_nifti_PT.nii',\n",
       " ' ']"
      ]
     },
     "execution_count": 10,
     "metadata": {},
     "output_type": "execute_result"
    }
   ],
   "source": [
    "pet2[-1]"
   ]
  },
  {
   "cell_type": "code",
   "execution_count": 19,
   "metadata": {
    "tags": [
     "outputPrepend"
    ]
   },
   "outputs": [
    {
     "name": "stdout",
     "output_type": "stream",
     "text": [
      "SimpleITK ReadImage: /tmp/SimpleITK/Code/IO/src/sitkImageReaderBase.cxx:99:\n",
      "sitk::ERROR: The file \"/media/storage/AHL2011_NIFTI_PET24/2.16.56.465769650.2551326252.3216962169_nifti_CT.nii\" does not exist.\n",
      "1670\n",
      "Exception thrown in SimpleITK ReadImage: /tmp/SimpleITK/Code/IO/src/sitkImageReaderBase.cxx:99:\n",
      "sitk::ERROR: The file \"/media/storage/AHL2011_NIFTI_PET24/2.16.56.465769650.2551326252.3508094928_nifti_CT.nii\" does not exist.\n",
      "1671\n",
      "Exception thrown in SimpleITK ReadImage: /tmp/SimpleITK/Code/IO/src/sitkImageReaderBase.cxx:99:\n",
      "sitk::ERROR: The file \"/media/storage/AHL2011_NIFTI_PET24/2.16.56.465769650.2551326252.819247385_nifti_CT.nii\" does not exist.\n",
      "1672\n",
      "Exception thrown in SimpleITK ReadImage: /tmp/SimpleITK/Code/IO/src/sitkImageReaderBase.cxx:99:\n",
      "sitk::ERROR: The file \"/media/storage/AHL2011_NIFTI_PET24/2.16.56.465769650.2551326252.3760137111_nifti_CT.nii\" does not exist.\n",
      "1673\n",
      "Exception thrown in SimpleITK ReadImage: /tmp/SimpleITK/Code/IO/src/sitkImageReaderBase.cxx:99:\n",
      "sitk::ERROR: The file \"/media/storage/AHL2011_NIFTI_PET24/2.16.56.465769650.2551326252.494943377_nifti_CT.nii\" does not exist.\n",
      "1674\n",
      "Exception thrown in SimpleITK ReadImage: /tmp/SimpleITK/Code/IO/src/sitkImageReaderBase.cxx:99:\n",
      "sitk::ERROR: The file \"/media/storage/AHL2011_NIFTI_PET24/2.16.56.465769650.3867004694.474443967_nifti_CT.nii\" does not exist.\n",
      "1675\n",
      "Exception thrown in SimpleITK ReadImage: /tmp/SimpleITK/Code/IO/src/sitkImageReaderBase.cxx:99:\n",
      "sitk::ERROR: The file \"/media/storage/AHL2011_NIFTI_PET24/2.16.56.465769650.3867004694.2109826007_nifti_CT.nii\" does not exist.\n",
      "1676\n",
      "Exception thrown in SimpleITK ReadImage: /tmp/SimpleITK/Code/IO/src/sitkImageReaderBase.cxx:99:\n",
      "sitk::ERROR: The file \"/media/storage/AHL2011_NIFTI_PET24/2.16.840.1.113669.632.20.210791.10000155373_nifti_CT.nii\" does not exist.\n",
      "1677\n",
      "Exception thrown in SimpleITK ReadImage: /tmp/SimpleITK/Code/IO/src/sitkImageReaderBase.cxx:99:\n",
      "sitk::ERROR: The file \"/media/storage/AHL2011_NIFTI_PET24/2.16.840.1.113669.632.20.210791.10000155394_nifti_CT.nii\" does not exist.\n",
      "1678\n",
      "Exception thrown in SimpleITK ReadImage: /tmp/SimpleITK/Code/IO/src/sitkImageReaderBase.cxx:99:\n",
      "sitk::ERROR: The file \"/media/storage/AHL2011_NIFTI_PET24/2.16.840.1.113669.632.20.210791.20000001834_nifti_CT.nii\" does not exist.\n",
      "1679\n",
      "Exception thrown in SimpleITK ReadImage: /tmp/SimpleITK/Code/IO/src/sitkImageReaderBase.cxx:99:\n",
      "sitk::ERROR: The file \"/media/storage/AHL2011_NIFTI_PET24/2.16.840.1.113669.632.20.210791.20000003666_nifti_CT.nii\" does not exist.\n",
      "1680\n",
      "Exception thrown in SimpleITK ReadImage: /tmp/SimpleITK/Code/IO/src/sitkImageReaderBase.cxx:99:\n",
      "sitk::ERROR: The file \"/media/storage/AHL2011_NIFTI_PET24/2.16.840.1.113669.632.20.210791.20000008052_nifti_CT.nii\" does not exist.\n",
      "1681\n",
      "Exception thrown in SimpleITK ReadImage: /tmp/SimpleITK/Code/IO/src/sitkImageReaderBase.cxx:99:\n",
      "sitk::ERROR: The file \"/media/storage/AHL2011_NIFTI_PET24/2.16.840.1.113669.632.20.210791.20000011093_nifti_CT.nii\" does not exist.\n",
      "1682\n",
      "Exception thrown in SimpleITK ReadImage: /tmp/SimpleITK/Code/IO/src/sitkImageReaderBase.cxx:99:\n",
      "sitk::ERROR: The file \"/media/storage/AHL2011_NIFTI_PET24/2.16.840.1.113669.632.20.210791.20000010974_nifti_CT.nii\" does not exist.\n",
      "1683\n",
      "Exception thrown in SimpleITK ReadImage: /tmp/SimpleITK/Code/IO/src/sitkImageReaderBase.cxx:99:\n",
      "sitk::ERROR: The file \"/media/storage/AHL2011_NIFTI_PET24/2.16.840.1.113669.632.20.210791.20000009641_nifti_CT.nii\" does not exist.\n",
      "1684\n",
      "Exception thrown in SimpleITK ReadImage: /tmp/SimpleITK/Code/IO/src/sitkImageReaderBase.cxx:99:\n",
      "sitk::ERROR: The file \"/media/storage/AHL2011_NIFTI_PET24/2.16.840.1.113669.632.20.210791.20000015048_nifti_CT.nii\" does not exist.\n",
      "1685\n",
      "Exception thrown in SimpleITK ReadImage: /tmp/SimpleITK/Code/IO/src/sitkImageReaderBase.cxx:99:\n",
      "sitk::ERROR: The file \"/media/storage/AHL2011_NIFTI_PET24/2.16.840.1.113669.632.20.210791.20000017420_nifti_CT.nii\" does not exist.\n",
      "1686\n",
      "Exception thrown in SimpleITK ReadImage: /tmp/SimpleITK/Code/IO/src/sitkImageReaderBase.cxx:99:\n",
      "sitk::ERROR: The file \"/media/storage/AHL2011_NIFTI_PET24/2.16.840.1.113669.632.20.210791.20000025848_nifti_CT.nii\" does not exist.\n",
      "1687\n",
      "Exception thrown in SimpleITK ReadImage: /tmp/SimpleITK/Code/IO/src/sitkImageReaderBase.cxx:99:\n",
      "sitk::ERROR: The file \"/media/storage/AHL2011_NIFTI_PET24/2.16.840.1.113669.632.20.210791.20000028051_nifti_CT.nii\" does not exist.\n",
      "1688\n",
      "Exception thrown in SimpleITK ReadImage: /tmp/SimpleITK/Code/IO/src/sitkImageReaderBase.cxx:99:\n",
      "sitk::ERROR: The file \"/media/storage/AHL2011_NIFTI_PET24/2.16.840.1.113669.632.20.210791.20000058538_nifti_CT.nii\" does not exist.\n",
      "1689\n",
      "Exception thrown in SimpleITK ReadImage: /tmp/SimpleITK/Code/IO/src/sitkImageReaderBase.cxx:99:\n",
      "sitk::ERROR: The file \"/media/storage/AHL2011_NIFTI_PET24/2.16.840.1.113669.632.20.210791.20000058326_nifti_CT.nii\" does not exist.\n",
      "1690\n",
      "Exception thrown in SimpleITK ReadImage: /tmp/SimpleITK/Code/IO/src/sitkImageReaderBase.cxx:99:\n",
      "sitk::ERROR: The file \"/media/storage/AHL2011_NIFTI_PET24/2.16.840.1.113669.632.20.210791.20000071314_nifti_CT.nii\" does not exist.\n",
      "1691\n",
      "Exception thrown in SimpleITK ReadImage: /tmp/SimpleITK/Code/IO/src/sitkImageReaderBase.cxx:99:\n",
      "sitk::ERROR: The file \"/media/storage/AHL2011_NIFTI_PET24/2.16.840.1.113669.632.20.210791.20000077749_nifti_CT.nii\" does not exist.\n",
      "1692\n",
      "Exception thrown in SimpleITK ReadImage: /tmp/SimpleITK/Code/IO/src/sitkImageReaderBase.cxx:99:\n",
      "sitk::ERROR: The file \"/media/storage/AHL2011_NIFTI_PET24/2.16.840.1.113669.632.20.210791.20000073268_nifti_CT.nii\" does not exist.\n",
      "1693\n",
      "Exception thrown in SimpleITK ReadImage: /tmp/SimpleITK/Code/IO/src/sitkImageReaderBase.cxx:99:\n",
      "sitk::ERROR: The file \"/media/storage/AHL2011_NIFTI_PET24/2.16.840.1.113669.632.20.210791.20000073600_nifti_CT.nii\" does not exist.\n",
      "1694\n",
      "Exception thrown in SimpleITK ReadImage: /tmp/SimpleITK/Code/IO/src/sitkImageReaderBase.cxx:99:\n",
      "sitk::ERROR: The file \"/media/storage/AHL2011_NIFTI_PET24/2.16.840.1.113669.632.20.210791.20000082112_nifti_CT.nii\" does not exist.\n",
      "1695\n",
      "Exception thrown in SimpleITK ReadImage: /tmp/SimpleITK/Code/IO/src/sitkImageReaderBase.cxx:99:\n",
      "sitk::ERROR: The file \"/media/storage/AHL2011_NIFTI_PET24/2.16.840.1.113669.632.20.210791.20000176394_nifti_CT.nii\" does not exist.\n",
      "1696\n",
      "Exception thrown in SimpleITK ReadImage: /tmp/SimpleITK/Code/IO/src/sitkImageReaderBase.cxx:99:\n",
      "sitk::ERROR: The file \"/media/storage/AHL2011_NIFTI_PET24/2.16.840.1.113669.632.20.210791.20000203534_nifti_CT.nii\" does not exist.\n",
      "1697\n",
      "Exception thrown in SimpleITK ReadImage: /tmp/SimpleITK/Code/IO/src/sitkImageReaderBase.cxx:99:\n",
      "sitk::ERROR: The file \"/media/storage/AHL2011_NIFTI_PET24/2.16.840.1.113669.632.20.300001.10000576664_nifti_CT.nii\" does not exist.\n",
      "1698\n",
      "Exception thrown in SimpleITK ReadImage: /tmp/SimpleITK/Code/IO/src/sitkImageReaderBase.cxx:99:\n",
      "sitk::ERROR: The file \"/media/storage/AHL2011_NIFTI_PET24/2.16.840.1.113669.632.20.300001.10000610283_nifti_CT.nii\" does not exist.\n",
      "1699\n",
      "Exception thrown in SimpleITK ReadImage: /tmp/SimpleITK/Code/IO/src/sitkImageReaderBase.cxx:99:\n",
      "sitk::ERROR: The file \"/media/storage/AHL2011_NIFTI_PET24/2.16.840.1.113669.632.20.330001.10001905919_nifti_CT.nii\" does not exist.\n",
      "1700\n",
      "Exception thrown in SimpleITK ReadImage: /tmp/SimpleITK/Code/IO/src/sitkImageReaderBase.cxx:99:\n",
      "sitk::ERROR: The file \"/media/storage/AHL2011_NIFTI_PET24/2.16.840.1.113669.632.20.330001.10001926437_nifti_CT.nii\" does not exist.\n",
      "1701\n",
      "Exception thrown in SimpleITK ReadImage: /tmp/SimpleITK/Code/IO/src/sitkImageReaderBase.cxx:99:\n",
      "sitk::ERROR: The file \"/media/storage/AHL2011_NIFTI_PET24/2.16.840.1.113669.632.20.330001.10001951466_nifti_CT.nii\" does not exist.\n",
      "1702\n",
      "Exception thrown in SimpleITK ReadImage: /tmp/SimpleITK/Code/IO/src/sitkImageReaderBase.cxx:99:\n",
      "sitk::ERROR: The file \"/media/storage/AHL2011_NIFTI_PET24/2.16.840.1.113669.632.20.330001.10001998734_nifti_CT.nii\" does not exist.\n",
      "1703\n",
      "Exception thrown in SimpleITK ReadImage: /tmp/SimpleITK/Code/IO/src/sitkImageReaderBase.cxx:99:\n",
      "sitk::ERROR: The file \"/media/storage/AHL2011_NIFTI_PET24/2.16.840.1.113669.632.20.330001.10002036437_nifti_CT.nii\" does not exist.\n",
      "1704\n",
      "Exception thrown in SimpleITK ReadImage: /tmp/SimpleITK/Code/IO/src/sitkImageReaderBase.cxx:99:\n",
      "sitk::ERROR: The file \"/media/storage/AHL2011_NIFTI_PET24/2.16.840.1.113669.632.20.330001.10002147686_nifti_CT.nii\" does not exist.\n",
      "1705\n",
      "Exception thrown in SimpleITK ReadImage: /tmp/SimpleITK/Code/IO/src/sitkImageReaderBase.cxx:99:\n",
      "sitk::ERROR: The file \"/media/storage/AHL2011_NIFTI_PET24/2.16.840.1.113669.632.20.330001.10002151055_nifti_CT.nii\" does not exist.\n",
      "1706\n",
      "Exception thrown in SimpleITK ReadImage: /tmp/SimpleITK/Code/IO/src/sitkImageReaderBase.cxx:99:\n",
      "sitk::ERROR: The file \"/media/storage/AHL2011_NIFTI_PET24/2.16.840.1.113669.632.20.330001.10002147734_nifti_CT.nii\" does not exist.\n",
      "1707\n",
      "Exception thrown in SimpleITK ReadImage: /tmp/SimpleITK/Code/IO/src/sitkImageReaderBase.cxx:99:\n",
      "sitk::ERROR: The file \"/media/storage/AHL2011_NIFTI_PET24/2.16.840.1.113669.632.20.330001.10002217703_nifti_CT.nii\" does not exist.\n",
      "1708\n",
      "Exception thrown in SimpleITK ReadImage: /tmp/SimpleITK/Code/IO/src/sitkImageReaderBase.cxx:99:\n",
      "sitk::ERROR: The file \"/media/storage/AHL2011_NIFTI_PET24/2.16.840.1.113669.632.20.330001.10002209026_nifti_CT.nii\" does not exist.\n",
      "1709\n",
      "Exception thrown in SimpleITK ReadImage: /tmp/SimpleITK/Code/IO/src/sitkImageReaderBase.cxx:99:\n",
      "sitk::ERROR: The file \"/media/storage/AHL2011_NIFTI_PET24/2.16.840.1.113669.632.20.330001.10002243092_nifti_CT.nii\" does not exist.\n",
      "1710\n",
      "Exception thrown in SimpleITK ReadImage: /tmp/SimpleITK/Code/IO/src/sitkImageReaderBase.cxx:99:\n",
      "sitk::ERROR: The file \"/media/storage/AHL2011_NIFTI_PET24/2.16.840.1.113669.632.20.330001.10002297836_nifti_CT.nii\" does not exist.\n",
      "1711\n",
      "Exception thrown in SimpleITK ReadImage: /tmp/SimpleITK/Code/IO/src/sitkImageReaderBase.cxx:99:\n",
      "sitk::ERROR: The file \"/media/storage/AHL2011_NIFTI_PET24/2.16.840.1.113669.632.20.330001.10002389027_nifti_CT.nii\" does not exist.\n",
      "1712\n",
      "Exception thrown in SimpleITK ReadImage: /tmp/SimpleITK/Code/IO/src/sitkImageReaderBase.cxx:99:\n",
      "sitk::ERROR: The file \"/media/storage/AHL2011_NIFTI_PET24/2.16.840.1.113669.632.20.540001.10003198925_nifti_CT.nii\" does not exist.\n",
      "1713\n",
      "Exception thrown in SimpleITK ReadImage: /tmp/SimpleITK/Code/IO/src/sitkImageReaderBase.cxx:99:\n",
      "sitk::ERROR: The file \"/media/storage/AHL2011_NIFTI_PET24/2.16.840.1.113669.632.20.540001.10003196580_nifti_CT.nii\" does not exist.\n",
      "1714\n",
      "Exception thrown in SimpleITK ReadImage: /tmp/SimpleITK/Code/IO/src/sitkImageReaderBase.cxx:99:\n",
      "sitk::ERROR: The file \"/media/storage/AHL2011_NIFTI_PET24/2.16.840.1.113669.632.20.540001.10003213518_nifti_CT.nii\" does not exist.\n",
      "1715\n",
      "Exception thrown in SimpleITK ReadImage: /tmp/SimpleITK/Code/IO/src/sitkImageReaderBase.cxx:99:\n",
      "sitk::ERROR: The file \"/media/storage/AHL2011_NIFTI_PET24/2.16.840.1.113669.632.20.540001.10003302807_nifti_CT.nii\" does not exist.\n",
      "1716\n",
      "Exception thrown in SimpleITK ReadImage: /tmp/SimpleITK/Code/IO/src/sitkImageReaderBase.cxx:99:\n",
      "sitk::ERROR: The file \"/media/storage/AHL2011_NIFTI_PET24/2.16.840.1.113669.632.20.540001.10003389793_nifti_CT.nii\" does not exist.\n",
      "1717\n",
      "Exception thrown in SimpleITK ReadImage: /tmp/SimpleITK/Code/IO/src/sitkImageReaderBase.cxx:99:\n",
      "sitk::ERROR: The file \"/media/storage/AHL2011_NIFTI_PET24/2.16.840.1.113669.632.20.540001.10003509273_nifti_CT.nii\" does not exist.\n",
      "1718\n",
      "Exception thrown in SimpleITK ReadImage: /tmp/SimpleITK/Code/IO/src/sitkImageReaderBase.cxx:99:\n",
      "sitk::ERROR: The file \"/media/storage/AHL2011_NIFTI_PET24/2.16.840.1.113669.632.20.540001.10003503804_nifti_CT.nii\" does not exist.\n",
      "1719\n",
      "Exception thrown in SimpleITK ReadImage: /tmp/SimpleITK/Code/IO/src/sitkImageReaderBase.cxx:99:\n",
      "sitk::ERROR: The file \"/media/storage/AHL2011_NIFTI_PET24/2.16.840.1.113669.632.20.540001.10003483430_nifti_CT.nii\" does not exist.\n",
      "1720\n",
      "Exception thrown in SimpleITK ReadImage: /tmp/SimpleITK/Code/IO/src/sitkImageReaderBase.cxx:99:\n",
      "sitk::ERROR: The file \"/media/storage/AHL2011_NIFTI_PET24/2.16.840.1.113669.632.20.540001.10003556264_nifti_CT.nii\" does not exist.\n",
      "1721\n",
      "Exception thrown in SimpleITK ReadImage: /tmp/SimpleITK/Code/IO/src/sitkImageReaderBase.cxx:99:\n",
      "sitk::ERROR: The file \"/media/storage/AHL2011_NIFTI_PET24/2.16.840.1.113669.632.20.540001.10003580838_nifti_CT.nii\" does not exist.\n",
      "1722\n",
      "Exception thrown in SimpleITK ReadImage: /tmp/SimpleITK/Code/IO/src/sitkImageReaderBase.cxx:99:\n",
      "sitk::ERROR: The file \"/media/storage/AHL2011_NIFTI_PET24/2.16.840.1.113669.632.20.540001.10003865944_nifti_CT.nii\" does not exist.\n",
      "1723\n",
      "Exception thrown in SimpleITK ReadImage: /tmp/SimpleITK/Code/IO/src/sitkImageReaderBase.cxx:99:\n",
      "sitk::ERROR: The file \"/media/storage/AHL2011_NIFTI_PET24/2.16.840.1.113669.632.20.540001.10003867203_nifti_CT.nii\" does not exist.\n",
      "1724\n",
      "Exception thrown in SimpleITK ReadImage: /tmp/SimpleITK/Code/IO/src/sitkImageReaderBase.cxx:99:\n",
      "sitk::ERROR: The file \"/media/storage/AHL2011_NIFTI_PET24/2.16.840.1.113669.632.20.540001.10003927189_nifti_CT.nii\" does not exist.\n",
      "1725\n",
      "Exception thrown in SimpleITK ReadImage: /tmp/SimpleITK/Code/IO/src/sitkImageReaderBase.cxx:99:\n",
      "sitk::ERROR: The file \"/media/storage/AHL2011_NIFTI_PET24/2.16.840.1.113669.632.20.540001.10004004672_nifti_CT.nii\" does not exist.\n",
      "1726\n",
      "Exception thrown in SimpleITK ReadImage: /tmp/SimpleITK/Code/IO/src/sitkImageReaderBase.cxx:99:\n",
      "sitk::ERROR: The file \"/media/storage/AHL2011_NIFTI_PET24/2.16.840.1.113669.632.20.620001.10000600514_nifti_CT.nii\" does not exist.\n",
      "1727\n",
      "Exception thrown in SimpleITK ReadImage: /tmp/SimpleITK/Code/IO/src/sitkImageReaderBase.cxx:99:\n",
      "sitk::ERROR: The file \"/media/storage/AHL2011_NIFTI_PET24/2.16.840.1.113669.632.20.670001.10001544813_nifti_CT.nii\" does not exist.\n",
      "1728\n",
      "Exception thrown in SimpleITK ReadImage: /tmp/SimpleITK/Code/IO/src/sitkImageReaderBase.cxx:99:\n",
      "sitk::ERROR: The file \"/media/storage/AHL2011_NIFTI_PET24/2.16.840.1.113669.632.20.670001.10001679375_nifti_CT.nii\" does not exist.\n",
      "1729\n",
      "Exception thrown in SimpleITK ReadImage: /tmp/SimpleITK/Code/IO/src/sitkImageReaderBase.cxx:99:\n",
      "sitk::ERROR: The file \"/media/storage/AHL2011_NIFTI_PET24/2.16.840.1.113669.632.20.689996.10000441772_nifti_CT.nii\" does not exist.\n",
      "1730\n",
      "Exception thrown in SimpleITK ReadImage: /tmp/SimpleITK/Code/IO/src/sitkImageReaderBase.cxx:99:\n",
      "sitk::ERROR: The file \"/media/storage/AHL2011_NIFTI_PET24/2.16.840.1.113669.632.20.670001.10002012694_nifti_CT.nii\" does not exist.\n",
      "1731\n",
      "Exception thrown in SimpleITK ReadImage: /tmp/SimpleITK/Code/IO/src/sitkImageReaderBase.cxx:99:\n",
      "sitk::ERROR: The file \"/media/storage/AHL2011_NIFTI_PET24/2.16.840.1.113669.632.20.670001.10002040978_nifti_CT.nii\" does not exist.\n",
      "1732\n",
      "Exception thrown in SimpleITK ReadImage: /tmp/SimpleITK/Code/IO/src/sitkImageReaderBase.cxx:99:\n",
      "sitk::ERROR: The file \"/media/storage/AHL2011_NIFTI_PET24/2.16.840.1.113669.632.20.670001.10002134373_nifti_CT.nii\" does not exist.\n",
      "1733\n",
      "Exception thrown in SimpleITK ReadImage: /tmp/SimpleITK/Code/IO/src/sitkImageReaderBase.cxx:99:\n",
      "sitk::ERROR: The file \"/media/storage/AHL2011_NIFTI_PET24/2.16.840.1.113669.632.20.670001.900000045301_nifti_CT.nii\" does not exist.\n",
      "1734\n",
      "Exception thrown in SimpleITK ReadImage: /tmp/SimpleITK/Code/IO/src/sitkImageReaderBase.cxx:99:\n",
      "sitk::ERROR: The file \"/media/storage/AHL2011_NIFTI_PET24/2.16.840.1.113669.632.20.670001.900000085727_nifti_CT.nii\" does not exist.\n",
      "1735\n",
      "Exception thrown in SimpleITK ReadImage: /tmp/SimpleITK/Code/IO/src/sitkImageReaderBase.cxx:99:\n",
      "sitk::ERROR: The file \"/media/storage/AHL2011_NIFTI_PET24/2.16.840.1.113669.632.20.670001.900000137238_nifti_CT.nii\" does not exist.\n",
      "1736\n",
      "Exception thrown in SimpleITK ReadImage: /tmp/SimpleITK/Code/IO/src/sitkImageReaderBase.cxx:99:\n",
      "sitk::ERROR: The file \"/media/storage/AHL2011_NIFTI_PET24/2.16.840.1.113669.632.20.689996.10000317932_nifti_CT.nii\" does not exist.\n",
      "1737\n",
      "Exception thrown in SimpleITK ReadImage: /tmp/SimpleITK/Code/IO/src/sitkImageReaderBase.cxx:99:\n",
      "sitk::ERROR: The file \"/media/storage/AHL2011_NIFTI_PET24/2.16.840.1.113669.632.20.689996.10000316066_nifti_CT.nii\" does not exist.\n",
      "1738\n",
      "Exception thrown in SimpleITK ReadImage: /tmp/SimpleITK/Code/IO/src/sitkImageReaderBase.cxx:99:\n",
      "sitk::ERROR: The file \"/media/storage/AHL2011_NIFTI_PET24/2.16.840.1.113669.632.20.689996.10000339264_nifti_CT.nii\" does not exist.\n",
      "1739\n",
      "Exception thrown in SimpleITK ReadImage: /tmp/SimpleITK/Code/IO/src/sitkImageReaderBase.cxx:99:\n",
      "sitk::ERROR: The file \"/media/storage/AHL2011_NIFTI_PET24/2.16.840.1.113669.632.20.689996.10000409719_nifti_CT.nii\" does not exist.\n",
      "1740\n",
      "Exception thrown in SimpleITK ReadImage: /tmp/SimpleITK/Code/IO/src/sitkImageReaderBase.cxx:99:\n",
      "sitk::ERROR: The file \"/media/storage/AHL2011_NIFTI_PET24/2.16.840.1.113669.632.20.689996.10000424404_nifti_CT.nii\" does not exist.\n",
      "1741\n",
      "Exception thrown in SimpleITK ReadImage: /tmp/SimpleITK/Code/IO/src/sitkImageReaderBase.cxx:99:\n",
      "sitk::ERROR: The file \"/media/storage/AHL2011_NIFTI_PET24/2.16.840.1.113669.632.20.689996.10000433441_nifti_CT.nii\" does not exist.\n",
      "1742\n",
      "Exception thrown in SimpleITK ReadImage: /tmp/SimpleITK/Code/IO/src/sitkImageReaderBase.cxx:99:\n",
      "sitk::ERROR: The file \"/media/storage/AHL2011_NIFTI_PET24/2.16.840.1.113669.632.20.689996.10000438043_nifti_CT.nii\" does not exist.\n",
      "1743\n",
      "Exception thrown in SimpleITK ReadImage: /tmp/SimpleITK/Code/IO/src/sitkImageReaderBase.cxx:99:\n",
      "sitk::ERROR: The file \"/media/storage/AHL2011_NIFTI_PET24/2.16.840.1.113669.632.20.689996.10000482968_nifti_CT.nii\" does not exist.\n",
      "1744\n",
      "Exception thrown in SimpleITK ReadImage: /tmp/SimpleITK/Code/IO/src/sitkImageReaderBase.cxx:99:\n",
      "sitk::ERROR: The file \"/media/storage/AHL2011_NIFTI_PET24/2.16.840.1.113669.632.20.689996.10000481996_nifti_CT.nii\" does not exist.\n",
      "1745\n",
      "Exception thrown in SimpleITK ReadImage: /tmp/SimpleITK/Code/IO/src/sitkImageReaderBase.cxx:99:\n",
      "sitk::ERROR: The file \"/media/storage/AHL2011_NIFTI_PET24/2.16.840.1.113669.632.20.689996.10000485894_nifti_CT.nii\" does not exist.\n",
      "1746\n",
      "Exception thrown in SimpleITK ReadImage: /tmp/SimpleITK/Code/IO/src/sitkImageReaderBase.cxx:99:\n",
      "sitk::ERROR: The file \"/media/storage/AHL2011_NIFTI_PET24/2.16.840.1.113669.632.20.689996.10000489582_nifti_CT.nii\" does not exist.\n",
      "1747\n",
      "Exception thrown in SimpleITK ReadImage: /tmp/SimpleITK/Code/IO/src/sitkImageReaderBase.cxx:99:\n",
      "sitk::ERROR: The file \"/media/storage/AHL2011_NIFTI_PET24/2.16.840.1.113669.632.20.689996.10000564102_nifti_CT.nii\" does not exist.\n",
      "1748\n",
      "Exception thrown in SimpleITK ReadImage: /tmp/SimpleITK/Code/IO/src/sitkImageReaderBase.cxx:99:\n",
      "sitk::ERROR: The file \"/media/storage/AHL2011_NIFTI_PET24/2.16.840.1.113669.632.20.689996.10000589219_nifti_CT.nii\" does not exist.\n",
      "1749\n",
      "Exception thrown in SimpleITK ReadImage: /tmp/SimpleITK/Code/IO/src/sitkImageReaderBase.cxx:99:\n",
      "sitk::ERROR: The file \"/media/storage/AHL2011_NIFTI_PET24/2.16.840.1.113669.632.20.870421.10000293026_nifti_CT.nii\" does not exist.\n",
      "1750\n",
      "Exception thrown in SimpleITK ReadImage: /tmp/SimpleITK/Code/IO/src/sitkImageReaderBase.cxx:99:\n",
      "sitk::ERROR: The file \"/media/storage/AHL2011_NIFTI_PET24/2.16.840.1.113669.632.20.870421.10000312920_nifti_CT.nii\" does not exist.\n",
      "1751\n",
      "Exception thrown in SimpleITK ReadImage: /tmp/SimpleITK/Code/IO/src/sitkImageReaderBase.cxx:99:\n",
      "sitk::ERROR: The file \"/media/storage/AHL2011_NIFTI_PET24/2.16.840.1.113669.632.20.870421.10000766225_nifti_CT.nii\" does not exist.\n",
      "1752\n",
      "Exception thrown in SimpleITK ReadImage: /tmp/SimpleITK/Code/IO/src/sitkImageReaderBase.cxx:99:\n",
      "sitk::ERROR: The file \"/media/storage/AHL2011_NIFTI_PET24/2.16.840.1.113669.632.20.870421.10000785518_nifti_CT.nii\" does not exist.\n",
      "1753\n",
      "Exception thrown in SimpleITK ReadImage: /tmp/SimpleITK/Code/IO/src/sitkImageReaderBase.cxx:99:\n",
      "sitk::ERROR: The file \"/media/storage/AHL2011_NIFTI_PET24/2.16.840.1.113669.632.20.870421.10000789985_nifti_CT.nii\" does not exist.\n",
      "1754\n",
      "Exception thrown in SimpleITK ReadImage: /tmp/SimpleITK/Code/IO/src/sitkImageReaderBase.cxx:99:\n",
      "sitk::ERROR: The file \"/media/storage/AHL2011_NIFTI_PET24/7.29041416391284011361921821017482152178771397203594137988_nifti_CT.nii\" does not exist.\n"
     ]
    }
   ],
   "source": [
    "error = []\n",
    "\n",
    "directory_png = '/media/deeplearning/Elements/classif_ct/ahl_pet2'\n",
    "directory_nifti = '/media/deeplearning/Elements/classif_ct/nifti_ahl_pet2'\n",
    "#path_png = []\n",
    "\n",
    "for serie in csv_data : \n",
    "    print(csv_data.index(serie))\n",
    "    try : \n",
    "        ct_img = normalize_CT(serie[4])\n",
    "\n",
    "        result = resample_CT(ct_img, directory_nifti, serie[2])\n",
    "        filename = save_mip(result, directory_png, serie[2])\n",
    "\n",
    "        #path_png.append(filename)\n",
    "    except Exception as err : \n",
    "        print(err)\n",
    "        error.append(serie)"
   ]
  },
  {
   "cell_type": "code",
   "execution_count": null,
   "metadata": {},
   "outputs": [],
   "source": []
  }
 ],
 "metadata": {
  "kernelspec": {
   "display_name": "Python 3",
   "language": "python",
   "name": "python3"
  },
  "language_info": {
   "codemirror_mode": {
    "name": "ipython",
    "version": 3
   },
   "file_extension": ".py",
   "mimetype": "text/x-python",
   "name": "python",
   "nbconvert_exporter": "python",
   "pygments_lexer": "ipython3",
   "version": "3.7.4"
  }
 },
 "nbformat": 4,
 "nbformat_minor": 2
}
